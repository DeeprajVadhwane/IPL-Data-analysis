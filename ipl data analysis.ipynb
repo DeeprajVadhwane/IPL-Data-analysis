{
 "cells": [
  {
   "cell_type": "code",
   "execution_count": 1,
   "id": "2d7a087f",
   "metadata": {},
   "outputs": [],
   "source": [
    "import numpy as np\n",
    "import pandas as pd\n",
    "import matplotlib.pyplot as plt\n",
    "import seaborn as sns"
   ]
  },
  {
   "cell_type": "code",
   "execution_count": 2,
   "id": "b3a5d454",
   "metadata": {},
   "outputs": [],
   "source": [
    "df2=pd.read_csv(\"deliveries.csv\")"
   ]
  },
  {
   "cell_type": "code",
   "execution_count": 3,
   "id": "f94558a2",
   "metadata": {},
   "outputs": [],
   "source": [
    "df1=pd.read_csv(\"matches.csv\")"
   ]
  },
  {
   "cell_type": "code",
   "execution_count": 4,
   "id": "394cbf90",
   "metadata": {
    "scrolled": true
   },
   "outputs": [
    {
     "data": {
      "text/plain": [
       "(756, 18)"
      ]
     },
     "execution_count": 4,
     "metadata": {},
     "output_type": "execute_result"
    }
   ],
   "source": [
    "df1.shape"
   ]
  },
  {
   "cell_type": "code",
   "execution_count": 5,
   "id": "e6886248",
   "metadata": {},
   "outputs": [
    {
     "data": {
      "text/plain": [
       "(179078, 21)"
      ]
     },
     "execution_count": 5,
     "metadata": {},
     "output_type": "execute_result"
    }
   ],
   "source": [
    "df2.shape"
   ]
  },
  {
   "cell_type": "code",
   "execution_count": 6,
   "id": "8ede0566",
   "metadata": {},
   "outputs": [
    {
     "data": {
      "text/plain": [
       "Index(['id', 'season', 'city', 'date', 'team1', 'team2', 'toss_winner',\n",
       "       'toss_decision', 'result', 'dl_applied', 'winner', 'win_by_runs',\n",
       "       'win_by_wickets', 'player_of_match', 'venue', 'umpire1', 'umpire2',\n",
       "       'umpire3'],\n",
       "      dtype='object')"
      ]
     },
     "execution_count": 6,
     "metadata": {},
     "output_type": "execute_result"
    }
   ],
   "source": [
    "df1.columns"
   ]
  },
  {
   "cell_type": "code",
   "execution_count": 7,
   "id": "61b432fb",
   "metadata": {
    "scrolled": true
   },
   "outputs": [
    {
     "data": {
      "text/plain": [
       "Index(['match_id', 'inning', 'batting_team', 'bowling_team', 'over', 'ball',\n",
       "       'batsman', 'non_striker', 'bowler', 'is_super_over', 'wide_runs',\n",
       "       'bye_runs', 'legbye_runs', 'noball_runs', 'penalty_runs',\n",
       "       'batsman_runs', 'extra_runs', 'total_runs', 'player_dismissed',\n",
       "       'dismissal_kind', 'fielder'],\n",
       "      dtype='object')"
      ]
     },
     "execution_count": 7,
     "metadata": {},
     "output_type": "execute_result"
    }
   ],
   "source": [
    "df2.columns"
   ]
  },
  {
   "cell_type": "markdown",
   "id": "4ab0a500",
   "metadata": {},
   "source": [
    "### 1. Which of the following is the right way to merge 2 datasets for getting better insights from the data"
   ]
  },
  {
   "cell_type": "code",
   "execution_count": 8,
   "id": "b22b6477",
   "metadata": {},
   "outputs": [
    {
     "data": {
      "text/html": [
       "<div>\n",
       "<style scoped>\n",
       "    .dataframe tbody tr th:only-of-type {\n",
       "        vertical-align: middle;\n",
       "    }\n",
       "\n",
       "    .dataframe tbody tr th {\n",
       "        vertical-align: top;\n",
       "    }\n",
       "\n",
       "    .dataframe thead th {\n",
       "        text-align: right;\n",
       "    }\n",
       "</style>\n",
       "<table border=\"1\" class=\"dataframe\">\n",
       "  <thead>\n",
       "    <tr style=\"text-align: right;\">\n",
       "      <th></th>\n",
       "      <th>match_id</th>\n",
       "      <th>inning</th>\n",
       "      <th>batting_team</th>\n",
       "      <th>bowling_team</th>\n",
       "      <th>over</th>\n",
       "      <th>ball</th>\n",
       "      <th>batsman</th>\n",
       "      <th>non_striker</th>\n",
       "      <th>bowler</th>\n",
       "      <th>is_super_over</th>\n",
       "      <th>...</th>\n",
       "      <th>bye_runs</th>\n",
       "      <th>legbye_runs</th>\n",
       "      <th>noball_runs</th>\n",
       "      <th>penalty_runs</th>\n",
       "      <th>batsman_runs</th>\n",
       "      <th>extra_runs</th>\n",
       "      <th>total_runs</th>\n",
       "      <th>player_dismissed</th>\n",
       "      <th>dismissal_kind</th>\n",
       "      <th>fielder</th>\n",
       "    </tr>\n",
       "  </thead>\n",
       "  <tbody>\n",
       "    <tr>\n",
       "      <th>0</th>\n",
       "      <td>1</td>\n",
       "      <td>1</td>\n",
       "      <td>Sunrisers Hyderabad</td>\n",
       "      <td>Royal Challengers Bangalore</td>\n",
       "      <td>1</td>\n",
       "      <td>1</td>\n",
       "      <td>DA Warner</td>\n",
       "      <td>S Dhawan</td>\n",
       "      <td>TS Mills</td>\n",
       "      <td>0</td>\n",
       "      <td>...</td>\n",
       "      <td>0</td>\n",
       "      <td>0</td>\n",
       "      <td>0</td>\n",
       "      <td>0</td>\n",
       "      <td>0</td>\n",
       "      <td>0</td>\n",
       "      <td>0</td>\n",
       "      <td>NaN</td>\n",
       "      <td>NaN</td>\n",
       "      <td>NaN</td>\n",
       "    </tr>\n",
       "    <tr>\n",
       "      <th>1</th>\n",
       "      <td>1</td>\n",
       "      <td>1</td>\n",
       "      <td>Sunrisers Hyderabad</td>\n",
       "      <td>Royal Challengers Bangalore</td>\n",
       "      <td>1</td>\n",
       "      <td>2</td>\n",
       "      <td>DA Warner</td>\n",
       "      <td>S Dhawan</td>\n",
       "      <td>TS Mills</td>\n",
       "      <td>0</td>\n",
       "      <td>...</td>\n",
       "      <td>0</td>\n",
       "      <td>0</td>\n",
       "      <td>0</td>\n",
       "      <td>0</td>\n",
       "      <td>0</td>\n",
       "      <td>0</td>\n",
       "      <td>0</td>\n",
       "      <td>NaN</td>\n",
       "      <td>NaN</td>\n",
       "      <td>NaN</td>\n",
       "    </tr>\n",
       "    <tr>\n",
       "      <th>2</th>\n",
       "      <td>1</td>\n",
       "      <td>1</td>\n",
       "      <td>Sunrisers Hyderabad</td>\n",
       "      <td>Royal Challengers Bangalore</td>\n",
       "      <td>1</td>\n",
       "      <td>3</td>\n",
       "      <td>DA Warner</td>\n",
       "      <td>S Dhawan</td>\n",
       "      <td>TS Mills</td>\n",
       "      <td>0</td>\n",
       "      <td>...</td>\n",
       "      <td>0</td>\n",
       "      <td>0</td>\n",
       "      <td>0</td>\n",
       "      <td>0</td>\n",
       "      <td>4</td>\n",
       "      <td>0</td>\n",
       "      <td>4</td>\n",
       "      <td>NaN</td>\n",
       "      <td>NaN</td>\n",
       "      <td>NaN</td>\n",
       "    </tr>\n",
       "    <tr>\n",
       "      <th>3</th>\n",
       "      <td>1</td>\n",
       "      <td>1</td>\n",
       "      <td>Sunrisers Hyderabad</td>\n",
       "      <td>Royal Challengers Bangalore</td>\n",
       "      <td>1</td>\n",
       "      <td>4</td>\n",
       "      <td>DA Warner</td>\n",
       "      <td>S Dhawan</td>\n",
       "      <td>TS Mills</td>\n",
       "      <td>0</td>\n",
       "      <td>...</td>\n",
       "      <td>0</td>\n",
       "      <td>0</td>\n",
       "      <td>0</td>\n",
       "      <td>0</td>\n",
       "      <td>0</td>\n",
       "      <td>0</td>\n",
       "      <td>0</td>\n",
       "      <td>NaN</td>\n",
       "      <td>NaN</td>\n",
       "      <td>NaN</td>\n",
       "    </tr>\n",
       "    <tr>\n",
       "      <th>4</th>\n",
       "      <td>1</td>\n",
       "      <td>1</td>\n",
       "      <td>Sunrisers Hyderabad</td>\n",
       "      <td>Royal Challengers Bangalore</td>\n",
       "      <td>1</td>\n",
       "      <td>5</td>\n",
       "      <td>DA Warner</td>\n",
       "      <td>S Dhawan</td>\n",
       "      <td>TS Mills</td>\n",
       "      <td>0</td>\n",
       "      <td>...</td>\n",
       "      <td>0</td>\n",
       "      <td>0</td>\n",
       "      <td>0</td>\n",
       "      <td>0</td>\n",
       "      <td>0</td>\n",
       "      <td>2</td>\n",
       "      <td>2</td>\n",
       "      <td>NaN</td>\n",
       "      <td>NaN</td>\n",
       "      <td>NaN</td>\n",
       "    </tr>\n",
       "    <tr>\n",
       "      <th>...</th>\n",
       "      <td>...</td>\n",
       "      <td>...</td>\n",
       "      <td>...</td>\n",
       "      <td>...</td>\n",
       "      <td>...</td>\n",
       "      <td>...</td>\n",
       "      <td>...</td>\n",
       "      <td>...</td>\n",
       "      <td>...</td>\n",
       "      <td>...</td>\n",
       "      <td>...</td>\n",
       "      <td>...</td>\n",
       "      <td>...</td>\n",
       "      <td>...</td>\n",
       "      <td>...</td>\n",
       "      <td>...</td>\n",
       "      <td>...</td>\n",
       "      <td>...</td>\n",
       "      <td>...</td>\n",
       "      <td>...</td>\n",
       "      <td>...</td>\n",
       "    </tr>\n",
       "    <tr>\n",
       "      <th>179073</th>\n",
       "      <td>11415</td>\n",
       "      <td>2</td>\n",
       "      <td>Chennai Super Kings</td>\n",
       "      <td>Mumbai Indians</td>\n",
       "      <td>20</td>\n",
       "      <td>2</td>\n",
       "      <td>RA Jadeja</td>\n",
       "      <td>SR Watson</td>\n",
       "      <td>SL Malinga</td>\n",
       "      <td>0</td>\n",
       "      <td>...</td>\n",
       "      <td>0</td>\n",
       "      <td>0</td>\n",
       "      <td>0</td>\n",
       "      <td>0</td>\n",
       "      <td>1</td>\n",
       "      <td>0</td>\n",
       "      <td>1</td>\n",
       "      <td>NaN</td>\n",
       "      <td>NaN</td>\n",
       "      <td>NaN</td>\n",
       "    </tr>\n",
       "    <tr>\n",
       "      <th>179074</th>\n",
       "      <td>11415</td>\n",
       "      <td>2</td>\n",
       "      <td>Chennai Super Kings</td>\n",
       "      <td>Mumbai Indians</td>\n",
       "      <td>20</td>\n",
       "      <td>3</td>\n",
       "      <td>SR Watson</td>\n",
       "      <td>RA Jadeja</td>\n",
       "      <td>SL Malinga</td>\n",
       "      <td>0</td>\n",
       "      <td>...</td>\n",
       "      <td>0</td>\n",
       "      <td>0</td>\n",
       "      <td>0</td>\n",
       "      <td>0</td>\n",
       "      <td>2</td>\n",
       "      <td>0</td>\n",
       "      <td>2</td>\n",
       "      <td>NaN</td>\n",
       "      <td>NaN</td>\n",
       "      <td>NaN</td>\n",
       "    </tr>\n",
       "    <tr>\n",
       "      <th>179075</th>\n",
       "      <td>11415</td>\n",
       "      <td>2</td>\n",
       "      <td>Chennai Super Kings</td>\n",
       "      <td>Mumbai Indians</td>\n",
       "      <td>20</td>\n",
       "      <td>4</td>\n",
       "      <td>SR Watson</td>\n",
       "      <td>RA Jadeja</td>\n",
       "      <td>SL Malinga</td>\n",
       "      <td>0</td>\n",
       "      <td>...</td>\n",
       "      <td>0</td>\n",
       "      <td>0</td>\n",
       "      <td>0</td>\n",
       "      <td>0</td>\n",
       "      <td>1</td>\n",
       "      <td>0</td>\n",
       "      <td>1</td>\n",
       "      <td>SR Watson</td>\n",
       "      <td>run out</td>\n",
       "      <td>KH Pandya</td>\n",
       "    </tr>\n",
       "    <tr>\n",
       "      <th>179076</th>\n",
       "      <td>11415</td>\n",
       "      <td>2</td>\n",
       "      <td>Chennai Super Kings</td>\n",
       "      <td>Mumbai Indians</td>\n",
       "      <td>20</td>\n",
       "      <td>5</td>\n",
       "      <td>SN Thakur</td>\n",
       "      <td>RA Jadeja</td>\n",
       "      <td>SL Malinga</td>\n",
       "      <td>0</td>\n",
       "      <td>...</td>\n",
       "      <td>0</td>\n",
       "      <td>0</td>\n",
       "      <td>0</td>\n",
       "      <td>0</td>\n",
       "      <td>2</td>\n",
       "      <td>0</td>\n",
       "      <td>2</td>\n",
       "      <td>NaN</td>\n",
       "      <td>NaN</td>\n",
       "      <td>NaN</td>\n",
       "    </tr>\n",
       "    <tr>\n",
       "      <th>179077</th>\n",
       "      <td>11415</td>\n",
       "      <td>2</td>\n",
       "      <td>Chennai Super Kings</td>\n",
       "      <td>Mumbai Indians</td>\n",
       "      <td>20</td>\n",
       "      <td>6</td>\n",
       "      <td>SN Thakur</td>\n",
       "      <td>RA Jadeja</td>\n",
       "      <td>SL Malinga</td>\n",
       "      <td>0</td>\n",
       "      <td>...</td>\n",
       "      <td>0</td>\n",
       "      <td>0</td>\n",
       "      <td>0</td>\n",
       "      <td>0</td>\n",
       "      <td>0</td>\n",
       "      <td>0</td>\n",
       "      <td>0</td>\n",
       "      <td>SN Thakur</td>\n",
       "      <td>lbw</td>\n",
       "      <td>NaN</td>\n",
       "    </tr>\n",
       "  </tbody>\n",
       "</table>\n",
       "<p>179078 rows × 21 columns</p>\n",
       "</div>"
      ],
      "text/plain": [
       "        match_id  inning         batting_team                 bowling_team  \\\n",
       "0              1       1  Sunrisers Hyderabad  Royal Challengers Bangalore   \n",
       "1              1       1  Sunrisers Hyderabad  Royal Challengers Bangalore   \n",
       "2              1       1  Sunrisers Hyderabad  Royal Challengers Bangalore   \n",
       "3              1       1  Sunrisers Hyderabad  Royal Challengers Bangalore   \n",
       "4              1       1  Sunrisers Hyderabad  Royal Challengers Bangalore   \n",
       "...          ...     ...                  ...                          ...   \n",
       "179073     11415       2  Chennai Super Kings               Mumbai Indians   \n",
       "179074     11415       2  Chennai Super Kings               Mumbai Indians   \n",
       "179075     11415       2  Chennai Super Kings               Mumbai Indians   \n",
       "179076     11415       2  Chennai Super Kings               Mumbai Indians   \n",
       "179077     11415       2  Chennai Super Kings               Mumbai Indians   \n",
       "\n",
       "        over  ball    batsman non_striker      bowler  is_super_over  ...  \\\n",
       "0          1     1  DA Warner    S Dhawan    TS Mills              0  ...   \n",
       "1          1     2  DA Warner    S Dhawan    TS Mills              0  ...   \n",
       "2          1     3  DA Warner    S Dhawan    TS Mills              0  ...   \n",
       "3          1     4  DA Warner    S Dhawan    TS Mills              0  ...   \n",
       "4          1     5  DA Warner    S Dhawan    TS Mills              0  ...   \n",
       "...      ...   ...        ...         ...         ...            ...  ...   \n",
       "179073    20     2  RA Jadeja   SR Watson  SL Malinga              0  ...   \n",
       "179074    20     3  SR Watson   RA Jadeja  SL Malinga              0  ...   \n",
       "179075    20     4  SR Watson   RA Jadeja  SL Malinga              0  ...   \n",
       "179076    20     5  SN Thakur   RA Jadeja  SL Malinga              0  ...   \n",
       "179077    20     6  SN Thakur   RA Jadeja  SL Malinga              0  ...   \n",
       "\n",
       "        bye_runs  legbye_runs  noball_runs  penalty_runs  batsman_runs  \\\n",
       "0              0            0            0             0             0   \n",
       "1              0            0            0             0             0   \n",
       "2              0            0            0             0             4   \n",
       "3              0            0            0             0             0   \n",
       "4              0            0            0             0             0   \n",
       "...          ...          ...          ...           ...           ...   \n",
       "179073         0            0            0             0             1   \n",
       "179074         0            0            0             0             2   \n",
       "179075         0            0            0             0             1   \n",
       "179076         0            0            0             0             2   \n",
       "179077         0            0            0             0             0   \n",
       "\n",
       "        extra_runs  total_runs  player_dismissed dismissal_kind    fielder  \n",
       "0                0           0               NaN            NaN        NaN  \n",
       "1                0           0               NaN            NaN        NaN  \n",
       "2                0           4               NaN            NaN        NaN  \n",
       "3                0           0               NaN            NaN        NaN  \n",
       "4                2           2               NaN            NaN        NaN  \n",
       "...            ...         ...               ...            ...        ...  \n",
       "179073           0           1               NaN            NaN        NaN  \n",
       "179074           0           2               NaN            NaN        NaN  \n",
       "179075           0           1         SR Watson        run out  KH Pandya  \n",
       "179076           0           2               NaN            NaN        NaN  \n",
       "179077           0           0         SN Thakur            lbw        NaN  \n",
       "\n",
       "[179078 rows x 21 columns]"
      ]
     },
     "execution_count": 8,
     "metadata": {},
     "output_type": "execute_result"
    }
   ],
   "source": [
    "df2"
   ]
  },
  {
   "cell_type": "code",
   "execution_count": 9,
   "id": "4fa40b85",
   "metadata": {
    "scrolled": true
   },
   "outputs": [
    {
     "data": {
      "text/plain": [
       "(179078, 39)"
      ]
     },
     "execution_count": 9,
     "metadata": {},
     "output_type": "execute_result"
    }
   ],
   "source": [
    "df = pd.merge(df1,df2, left_on='id', right_on='match_id',how='inner')\n",
    "df.shape"
   ]
  },
  {
   "cell_type": "code",
   "execution_count": 10,
   "id": "24608f28",
   "metadata": {},
   "outputs": [],
   "source": [
    "df=df.drop_duplicates()"
   ]
  },
  {
   "cell_type": "code",
   "execution_count": 11,
   "id": "a516c830",
   "metadata": {},
   "outputs": [
    {
     "data": {
      "text/plain": [
       "(179055, 39)"
      ]
     },
     "execution_count": 11,
     "metadata": {},
     "output_type": "execute_result"
    }
   ],
   "source": [
    "df.shape"
   ]
  },
  {
   "cell_type": "code",
   "execution_count": 12,
   "id": "51ce3f10",
   "metadata": {},
   "outputs": [
    {
     "data": {
      "text/html": [
       "<div>\n",
       "<style scoped>\n",
       "    .dataframe tbody tr th:only-of-type {\n",
       "        vertical-align: middle;\n",
       "    }\n",
       "\n",
       "    .dataframe tbody tr th {\n",
       "        vertical-align: top;\n",
       "    }\n",
       "\n",
       "    .dataframe thead th {\n",
       "        text-align: right;\n",
       "    }\n",
       "</style>\n",
       "<table border=\"1\" class=\"dataframe\">\n",
       "  <thead>\n",
       "    <tr style=\"text-align: right;\">\n",
       "      <th></th>\n",
       "      <th>id</th>\n",
       "      <th>season</th>\n",
       "      <th>city</th>\n",
       "      <th>date</th>\n",
       "      <th>team1</th>\n",
       "      <th>team2</th>\n",
       "      <th>toss_winner</th>\n",
       "      <th>toss_decision</th>\n",
       "      <th>result</th>\n",
       "      <th>dl_applied</th>\n",
       "      <th>...</th>\n",
       "      <th>bye_runs</th>\n",
       "      <th>legbye_runs</th>\n",
       "      <th>noball_runs</th>\n",
       "      <th>penalty_runs</th>\n",
       "      <th>batsman_runs</th>\n",
       "      <th>extra_runs</th>\n",
       "      <th>total_runs</th>\n",
       "      <th>player_dismissed</th>\n",
       "      <th>dismissal_kind</th>\n",
       "      <th>fielder</th>\n",
       "    </tr>\n",
       "  </thead>\n",
       "  <tbody>\n",
       "    <tr>\n",
       "      <th>0</th>\n",
       "      <td>1</td>\n",
       "      <td>2017</td>\n",
       "      <td>Hyderabad</td>\n",
       "      <td>2017-04-05</td>\n",
       "      <td>Sunrisers Hyderabad</td>\n",
       "      <td>Royal Challengers Bangalore</td>\n",
       "      <td>Royal Challengers Bangalore</td>\n",
       "      <td>field</td>\n",
       "      <td>normal</td>\n",
       "      <td>0</td>\n",
       "      <td>...</td>\n",
       "      <td>0</td>\n",
       "      <td>0</td>\n",
       "      <td>0</td>\n",
       "      <td>0</td>\n",
       "      <td>0</td>\n",
       "      <td>0</td>\n",
       "      <td>0</td>\n",
       "      <td>NaN</td>\n",
       "      <td>NaN</td>\n",
       "      <td>NaN</td>\n",
       "    </tr>\n",
       "    <tr>\n",
       "      <th>1</th>\n",
       "      <td>1</td>\n",
       "      <td>2017</td>\n",
       "      <td>Hyderabad</td>\n",
       "      <td>2017-04-05</td>\n",
       "      <td>Sunrisers Hyderabad</td>\n",
       "      <td>Royal Challengers Bangalore</td>\n",
       "      <td>Royal Challengers Bangalore</td>\n",
       "      <td>field</td>\n",
       "      <td>normal</td>\n",
       "      <td>0</td>\n",
       "      <td>...</td>\n",
       "      <td>0</td>\n",
       "      <td>0</td>\n",
       "      <td>0</td>\n",
       "      <td>0</td>\n",
       "      <td>0</td>\n",
       "      <td>0</td>\n",
       "      <td>0</td>\n",
       "      <td>NaN</td>\n",
       "      <td>NaN</td>\n",
       "      <td>NaN</td>\n",
       "    </tr>\n",
       "    <tr>\n",
       "      <th>2</th>\n",
       "      <td>1</td>\n",
       "      <td>2017</td>\n",
       "      <td>Hyderabad</td>\n",
       "      <td>2017-04-05</td>\n",
       "      <td>Sunrisers Hyderabad</td>\n",
       "      <td>Royal Challengers Bangalore</td>\n",
       "      <td>Royal Challengers Bangalore</td>\n",
       "      <td>field</td>\n",
       "      <td>normal</td>\n",
       "      <td>0</td>\n",
       "      <td>...</td>\n",
       "      <td>0</td>\n",
       "      <td>0</td>\n",
       "      <td>0</td>\n",
       "      <td>0</td>\n",
       "      <td>4</td>\n",
       "      <td>0</td>\n",
       "      <td>4</td>\n",
       "      <td>NaN</td>\n",
       "      <td>NaN</td>\n",
       "      <td>NaN</td>\n",
       "    </tr>\n",
       "    <tr>\n",
       "      <th>3</th>\n",
       "      <td>1</td>\n",
       "      <td>2017</td>\n",
       "      <td>Hyderabad</td>\n",
       "      <td>2017-04-05</td>\n",
       "      <td>Sunrisers Hyderabad</td>\n",
       "      <td>Royal Challengers Bangalore</td>\n",
       "      <td>Royal Challengers Bangalore</td>\n",
       "      <td>field</td>\n",
       "      <td>normal</td>\n",
       "      <td>0</td>\n",
       "      <td>...</td>\n",
       "      <td>0</td>\n",
       "      <td>0</td>\n",
       "      <td>0</td>\n",
       "      <td>0</td>\n",
       "      <td>0</td>\n",
       "      <td>0</td>\n",
       "      <td>0</td>\n",
       "      <td>NaN</td>\n",
       "      <td>NaN</td>\n",
       "      <td>NaN</td>\n",
       "    </tr>\n",
       "    <tr>\n",
       "      <th>4</th>\n",
       "      <td>1</td>\n",
       "      <td>2017</td>\n",
       "      <td>Hyderabad</td>\n",
       "      <td>2017-04-05</td>\n",
       "      <td>Sunrisers Hyderabad</td>\n",
       "      <td>Royal Challengers Bangalore</td>\n",
       "      <td>Royal Challengers Bangalore</td>\n",
       "      <td>field</td>\n",
       "      <td>normal</td>\n",
       "      <td>0</td>\n",
       "      <td>...</td>\n",
       "      <td>0</td>\n",
       "      <td>0</td>\n",
       "      <td>0</td>\n",
       "      <td>0</td>\n",
       "      <td>0</td>\n",
       "      <td>2</td>\n",
       "      <td>2</td>\n",
       "      <td>NaN</td>\n",
       "      <td>NaN</td>\n",
       "      <td>NaN</td>\n",
       "    </tr>\n",
       "  </tbody>\n",
       "</table>\n",
       "<p>5 rows × 39 columns</p>\n",
       "</div>"
      ],
      "text/plain": [
       "   id  season       city        date                team1  \\\n",
       "0   1    2017  Hyderabad  2017-04-05  Sunrisers Hyderabad   \n",
       "1   1    2017  Hyderabad  2017-04-05  Sunrisers Hyderabad   \n",
       "2   1    2017  Hyderabad  2017-04-05  Sunrisers Hyderabad   \n",
       "3   1    2017  Hyderabad  2017-04-05  Sunrisers Hyderabad   \n",
       "4   1    2017  Hyderabad  2017-04-05  Sunrisers Hyderabad   \n",
       "\n",
       "                         team2                  toss_winner toss_decision  \\\n",
       "0  Royal Challengers Bangalore  Royal Challengers Bangalore         field   \n",
       "1  Royal Challengers Bangalore  Royal Challengers Bangalore         field   \n",
       "2  Royal Challengers Bangalore  Royal Challengers Bangalore         field   \n",
       "3  Royal Challengers Bangalore  Royal Challengers Bangalore         field   \n",
       "4  Royal Challengers Bangalore  Royal Challengers Bangalore         field   \n",
       "\n",
       "   result  dl_applied  ... bye_runs  legbye_runs  noball_runs penalty_runs  \\\n",
       "0  normal           0  ...        0            0            0            0   \n",
       "1  normal           0  ...        0            0            0            0   \n",
       "2  normal           0  ...        0            0            0            0   \n",
       "3  normal           0  ...        0            0            0            0   \n",
       "4  normal           0  ...        0            0            0            0   \n",
       "\n",
       "  batsman_runs extra_runs total_runs player_dismissed  dismissal_kind  fielder  \n",
       "0            0          0          0              NaN             NaN      NaN  \n",
       "1            0          0          0              NaN             NaN      NaN  \n",
       "2            4          0          4              NaN             NaN      NaN  \n",
       "3            0          0          0              NaN             NaN      NaN  \n",
       "4            0          2          2              NaN             NaN      NaN  \n",
       "\n",
       "[5 rows x 39 columns]"
      ]
     },
     "execution_count": 12,
     "metadata": {},
     "output_type": "execute_result"
    }
   ],
   "source": [
    "df.head()"
   ]
  },
  {
   "cell_type": "code",
   "execution_count": 13,
   "id": "4a0d8d5f",
   "metadata": {},
   "outputs": [],
   "source": [
    "# merged_left = pd.merge(df1,df, left_on='id', right_on='match_id', how='left')\n"
   ]
  },
  {
   "cell_type": "code",
   "execution_count": 14,
   "id": "726a740d",
   "metadata": {},
   "outputs": [],
   "source": [
    "# merged_right = pd.merge(df1,df, left_on='id', right_on='match_id', how='left')\n"
   ]
  },
  {
   "cell_type": "markdown",
   "id": "8d36b684",
   "metadata": {},
   "source": [
    "### 2. The column which has the most missing values according to the data is:"
   ]
  },
  {
   "cell_type": "code",
   "execution_count": 15,
   "id": "9a0a62ea",
   "metadata": {},
   "outputs": [
    {
     "data": {
      "text/html": [
       "<div>\n",
       "<style scoped>\n",
       "    .dataframe tbody tr th:only-of-type {\n",
       "        vertical-align: middle;\n",
       "    }\n",
       "\n",
       "    .dataframe tbody tr th {\n",
       "        vertical-align: top;\n",
       "    }\n",
       "\n",
       "    .dataframe thead th {\n",
       "        text-align: right;\n",
       "    }\n",
       "</style>\n",
       "<table border=\"1\" class=\"dataframe\">\n",
       "  <thead>\n",
       "    <tr style=\"text-align: right;\">\n",
       "      <th></th>\n",
       "      <th>id</th>\n",
       "      <th>season</th>\n",
       "      <th>city</th>\n",
       "      <th>date</th>\n",
       "      <th>team1</th>\n",
       "      <th>team2</th>\n",
       "      <th>toss_winner</th>\n",
       "      <th>toss_decision</th>\n",
       "      <th>result</th>\n",
       "      <th>dl_applied</th>\n",
       "      <th>...</th>\n",
       "      <th>bye_runs</th>\n",
       "      <th>legbye_runs</th>\n",
       "      <th>noball_runs</th>\n",
       "      <th>penalty_runs</th>\n",
       "      <th>batsman_runs</th>\n",
       "      <th>extra_runs</th>\n",
       "      <th>total_runs</th>\n",
       "      <th>player_dismissed</th>\n",
       "      <th>dismissal_kind</th>\n",
       "      <th>fielder</th>\n",
       "    </tr>\n",
       "  </thead>\n",
       "  <tbody>\n",
       "    <tr>\n",
       "      <th>0</th>\n",
       "      <td>1</td>\n",
       "      <td>2017</td>\n",
       "      <td>Hyderabad</td>\n",
       "      <td>2017-04-05</td>\n",
       "      <td>Sunrisers Hyderabad</td>\n",
       "      <td>Royal Challengers Bangalore</td>\n",
       "      <td>Royal Challengers Bangalore</td>\n",
       "      <td>field</td>\n",
       "      <td>normal</td>\n",
       "      <td>0</td>\n",
       "      <td>...</td>\n",
       "      <td>0</td>\n",
       "      <td>0</td>\n",
       "      <td>0</td>\n",
       "      <td>0</td>\n",
       "      <td>0</td>\n",
       "      <td>0</td>\n",
       "      <td>0</td>\n",
       "      <td>NaN</td>\n",
       "      <td>NaN</td>\n",
       "      <td>NaN</td>\n",
       "    </tr>\n",
       "    <tr>\n",
       "      <th>1</th>\n",
       "      <td>1</td>\n",
       "      <td>2017</td>\n",
       "      <td>Hyderabad</td>\n",
       "      <td>2017-04-05</td>\n",
       "      <td>Sunrisers Hyderabad</td>\n",
       "      <td>Royal Challengers Bangalore</td>\n",
       "      <td>Royal Challengers Bangalore</td>\n",
       "      <td>field</td>\n",
       "      <td>normal</td>\n",
       "      <td>0</td>\n",
       "      <td>...</td>\n",
       "      <td>0</td>\n",
       "      <td>0</td>\n",
       "      <td>0</td>\n",
       "      <td>0</td>\n",
       "      <td>0</td>\n",
       "      <td>0</td>\n",
       "      <td>0</td>\n",
       "      <td>NaN</td>\n",
       "      <td>NaN</td>\n",
       "      <td>NaN</td>\n",
       "    </tr>\n",
       "    <tr>\n",
       "      <th>2</th>\n",
       "      <td>1</td>\n",
       "      <td>2017</td>\n",
       "      <td>Hyderabad</td>\n",
       "      <td>2017-04-05</td>\n",
       "      <td>Sunrisers Hyderabad</td>\n",
       "      <td>Royal Challengers Bangalore</td>\n",
       "      <td>Royal Challengers Bangalore</td>\n",
       "      <td>field</td>\n",
       "      <td>normal</td>\n",
       "      <td>0</td>\n",
       "      <td>...</td>\n",
       "      <td>0</td>\n",
       "      <td>0</td>\n",
       "      <td>0</td>\n",
       "      <td>0</td>\n",
       "      <td>4</td>\n",
       "      <td>0</td>\n",
       "      <td>4</td>\n",
       "      <td>NaN</td>\n",
       "      <td>NaN</td>\n",
       "      <td>NaN</td>\n",
       "    </tr>\n",
       "    <tr>\n",
       "      <th>3</th>\n",
       "      <td>1</td>\n",
       "      <td>2017</td>\n",
       "      <td>Hyderabad</td>\n",
       "      <td>2017-04-05</td>\n",
       "      <td>Sunrisers Hyderabad</td>\n",
       "      <td>Royal Challengers Bangalore</td>\n",
       "      <td>Royal Challengers Bangalore</td>\n",
       "      <td>field</td>\n",
       "      <td>normal</td>\n",
       "      <td>0</td>\n",
       "      <td>...</td>\n",
       "      <td>0</td>\n",
       "      <td>0</td>\n",
       "      <td>0</td>\n",
       "      <td>0</td>\n",
       "      <td>0</td>\n",
       "      <td>0</td>\n",
       "      <td>0</td>\n",
       "      <td>NaN</td>\n",
       "      <td>NaN</td>\n",
       "      <td>NaN</td>\n",
       "    </tr>\n",
       "    <tr>\n",
       "      <th>4</th>\n",
       "      <td>1</td>\n",
       "      <td>2017</td>\n",
       "      <td>Hyderabad</td>\n",
       "      <td>2017-04-05</td>\n",
       "      <td>Sunrisers Hyderabad</td>\n",
       "      <td>Royal Challengers Bangalore</td>\n",
       "      <td>Royal Challengers Bangalore</td>\n",
       "      <td>field</td>\n",
       "      <td>normal</td>\n",
       "      <td>0</td>\n",
       "      <td>...</td>\n",
       "      <td>0</td>\n",
       "      <td>0</td>\n",
       "      <td>0</td>\n",
       "      <td>0</td>\n",
       "      <td>0</td>\n",
       "      <td>2</td>\n",
       "      <td>2</td>\n",
       "      <td>NaN</td>\n",
       "      <td>NaN</td>\n",
       "      <td>NaN</td>\n",
       "    </tr>\n",
       "    <tr>\n",
       "      <th>...</th>\n",
       "      <td>...</td>\n",
       "      <td>...</td>\n",
       "      <td>...</td>\n",
       "      <td>...</td>\n",
       "      <td>...</td>\n",
       "      <td>...</td>\n",
       "      <td>...</td>\n",
       "      <td>...</td>\n",
       "      <td>...</td>\n",
       "      <td>...</td>\n",
       "      <td>...</td>\n",
       "      <td>...</td>\n",
       "      <td>...</td>\n",
       "      <td>...</td>\n",
       "      <td>...</td>\n",
       "      <td>...</td>\n",
       "      <td>...</td>\n",
       "      <td>...</td>\n",
       "      <td>...</td>\n",
       "      <td>...</td>\n",
       "      <td>...</td>\n",
       "    </tr>\n",
       "    <tr>\n",
       "      <th>179073</th>\n",
       "      <td>11415</td>\n",
       "      <td>2019</td>\n",
       "      <td>Hyderabad</td>\n",
       "      <td>12/05/19</td>\n",
       "      <td>Mumbai Indians</td>\n",
       "      <td>Chennai Super Kings</td>\n",
       "      <td>Mumbai Indians</td>\n",
       "      <td>bat</td>\n",
       "      <td>normal</td>\n",
       "      <td>0</td>\n",
       "      <td>...</td>\n",
       "      <td>0</td>\n",
       "      <td>0</td>\n",
       "      <td>0</td>\n",
       "      <td>0</td>\n",
       "      <td>1</td>\n",
       "      <td>0</td>\n",
       "      <td>1</td>\n",
       "      <td>NaN</td>\n",
       "      <td>NaN</td>\n",
       "      <td>NaN</td>\n",
       "    </tr>\n",
       "    <tr>\n",
       "      <th>179074</th>\n",
       "      <td>11415</td>\n",
       "      <td>2019</td>\n",
       "      <td>Hyderabad</td>\n",
       "      <td>12/05/19</td>\n",
       "      <td>Mumbai Indians</td>\n",
       "      <td>Chennai Super Kings</td>\n",
       "      <td>Mumbai Indians</td>\n",
       "      <td>bat</td>\n",
       "      <td>normal</td>\n",
       "      <td>0</td>\n",
       "      <td>...</td>\n",
       "      <td>0</td>\n",
       "      <td>0</td>\n",
       "      <td>0</td>\n",
       "      <td>0</td>\n",
       "      <td>2</td>\n",
       "      <td>0</td>\n",
       "      <td>2</td>\n",
       "      <td>NaN</td>\n",
       "      <td>NaN</td>\n",
       "      <td>NaN</td>\n",
       "    </tr>\n",
       "    <tr>\n",
       "      <th>179075</th>\n",
       "      <td>11415</td>\n",
       "      <td>2019</td>\n",
       "      <td>Hyderabad</td>\n",
       "      <td>12/05/19</td>\n",
       "      <td>Mumbai Indians</td>\n",
       "      <td>Chennai Super Kings</td>\n",
       "      <td>Mumbai Indians</td>\n",
       "      <td>bat</td>\n",
       "      <td>normal</td>\n",
       "      <td>0</td>\n",
       "      <td>...</td>\n",
       "      <td>0</td>\n",
       "      <td>0</td>\n",
       "      <td>0</td>\n",
       "      <td>0</td>\n",
       "      <td>1</td>\n",
       "      <td>0</td>\n",
       "      <td>1</td>\n",
       "      <td>SR Watson</td>\n",
       "      <td>run out</td>\n",
       "      <td>KH Pandya</td>\n",
       "    </tr>\n",
       "    <tr>\n",
       "      <th>179076</th>\n",
       "      <td>11415</td>\n",
       "      <td>2019</td>\n",
       "      <td>Hyderabad</td>\n",
       "      <td>12/05/19</td>\n",
       "      <td>Mumbai Indians</td>\n",
       "      <td>Chennai Super Kings</td>\n",
       "      <td>Mumbai Indians</td>\n",
       "      <td>bat</td>\n",
       "      <td>normal</td>\n",
       "      <td>0</td>\n",
       "      <td>...</td>\n",
       "      <td>0</td>\n",
       "      <td>0</td>\n",
       "      <td>0</td>\n",
       "      <td>0</td>\n",
       "      <td>2</td>\n",
       "      <td>0</td>\n",
       "      <td>2</td>\n",
       "      <td>NaN</td>\n",
       "      <td>NaN</td>\n",
       "      <td>NaN</td>\n",
       "    </tr>\n",
       "    <tr>\n",
       "      <th>179077</th>\n",
       "      <td>11415</td>\n",
       "      <td>2019</td>\n",
       "      <td>Hyderabad</td>\n",
       "      <td>12/05/19</td>\n",
       "      <td>Mumbai Indians</td>\n",
       "      <td>Chennai Super Kings</td>\n",
       "      <td>Mumbai Indians</td>\n",
       "      <td>bat</td>\n",
       "      <td>normal</td>\n",
       "      <td>0</td>\n",
       "      <td>...</td>\n",
       "      <td>0</td>\n",
       "      <td>0</td>\n",
       "      <td>0</td>\n",
       "      <td>0</td>\n",
       "      <td>0</td>\n",
       "      <td>0</td>\n",
       "      <td>0</td>\n",
       "      <td>SN Thakur</td>\n",
       "      <td>lbw</td>\n",
       "      <td>NaN</td>\n",
       "    </tr>\n",
       "  </tbody>\n",
       "</table>\n",
       "<p>179055 rows × 39 columns</p>\n",
       "</div>"
      ],
      "text/plain": [
       "           id  season       city        date                team1  \\\n",
       "0           1    2017  Hyderabad  2017-04-05  Sunrisers Hyderabad   \n",
       "1           1    2017  Hyderabad  2017-04-05  Sunrisers Hyderabad   \n",
       "2           1    2017  Hyderabad  2017-04-05  Sunrisers Hyderabad   \n",
       "3           1    2017  Hyderabad  2017-04-05  Sunrisers Hyderabad   \n",
       "4           1    2017  Hyderabad  2017-04-05  Sunrisers Hyderabad   \n",
       "...       ...     ...        ...         ...                  ...   \n",
       "179073  11415    2019  Hyderabad    12/05/19       Mumbai Indians   \n",
       "179074  11415    2019  Hyderabad    12/05/19       Mumbai Indians   \n",
       "179075  11415    2019  Hyderabad    12/05/19       Mumbai Indians   \n",
       "179076  11415    2019  Hyderabad    12/05/19       Mumbai Indians   \n",
       "179077  11415    2019  Hyderabad    12/05/19       Mumbai Indians   \n",
       "\n",
       "                              team2                  toss_winner  \\\n",
       "0       Royal Challengers Bangalore  Royal Challengers Bangalore   \n",
       "1       Royal Challengers Bangalore  Royal Challengers Bangalore   \n",
       "2       Royal Challengers Bangalore  Royal Challengers Bangalore   \n",
       "3       Royal Challengers Bangalore  Royal Challengers Bangalore   \n",
       "4       Royal Challengers Bangalore  Royal Challengers Bangalore   \n",
       "...                             ...                          ...   \n",
       "179073          Chennai Super Kings               Mumbai Indians   \n",
       "179074          Chennai Super Kings               Mumbai Indians   \n",
       "179075          Chennai Super Kings               Mumbai Indians   \n",
       "179076          Chennai Super Kings               Mumbai Indians   \n",
       "179077          Chennai Super Kings               Mumbai Indians   \n",
       "\n",
       "       toss_decision  result  dl_applied  ... bye_runs  legbye_runs  \\\n",
       "0              field  normal           0  ...        0            0   \n",
       "1              field  normal           0  ...        0            0   \n",
       "2              field  normal           0  ...        0            0   \n",
       "3              field  normal           0  ...        0            0   \n",
       "4              field  normal           0  ...        0            0   \n",
       "...              ...     ...         ...  ...      ...          ...   \n",
       "179073           bat  normal           0  ...        0            0   \n",
       "179074           bat  normal           0  ...        0            0   \n",
       "179075           bat  normal           0  ...        0            0   \n",
       "179076           bat  normal           0  ...        0            0   \n",
       "179077           bat  normal           0  ...        0            0   \n",
       "\n",
       "        noball_runs penalty_runs batsman_runs extra_runs total_runs  \\\n",
       "0                 0            0            0          0          0   \n",
       "1                 0            0            0          0          0   \n",
       "2                 0            0            4          0          4   \n",
       "3                 0            0            0          0          0   \n",
       "4                 0            0            0          2          2   \n",
       "...             ...          ...          ...        ...        ...   \n",
       "179073            0            0            1          0          1   \n",
       "179074            0            0            2          0          2   \n",
       "179075            0            0            1          0          1   \n",
       "179076            0            0            2          0          2   \n",
       "179077            0            0            0          0          0   \n",
       "\n",
       "       player_dismissed  dismissal_kind    fielder  \n",
       "0                   NaN             NaN        NaN  \n",
       "1                   NaN             NaN        NaN  \n",
       "2                   NaN             NaN        NaN  \n",
       "3                   NaN             NaN        NaN  \n",
       "4                   NaN             NaN        NaN  \n",
       "...                 ...             ...        ...  \n",
       "179073              NaN             NaN        NaN  \n",
       "179074              NaN             NaN        NaN  \n",
       "179075        SR Watson         run out  KH Pandya  \n",
       "179076              NaN             NaN        NaN  \n",
       "179077        SN Thakur             lbw        NaN  \n",
       "\n",
       "[179055 rows x 39 columns]"
      ]
     },
     "execution_count": 15,
     "metadata": {},
     "output_type": "execute_result"
    }
   ],
   "source": [
    "df"
   ]
  },
  {
   "cell_type": "code",
   "execution_count": 16,
   "id": "9b06dffa",
   "metadata": {
    "scrolled": false
   },
   "outputs": [
    {
     "data": {
      "text/plain": [
       "id                   0.000000\n",
       "season               0.000000\n",
       "city                 0.949429\n",
       "date                 0.000000\n",
       "team1                0.000000\n",
       "team2                0.000000\n",
       "toss_winner          0.000000\n",
       "toss_decision        0.000000\n",
       "result               0.000000\n",
       "dl_applied           0.000000\n",
       "winner               0.207757\n",
       "win_by_runs          0.000000\n",
       "win_by_wickets       0.000000\n",
       "player_of_match      0.207757\n",
       "venue                0.000000\n",
       "umpire1              0.279244\n",
       "umpire2              0.279244\n",
       "umpire3             84.170227\n",
       "match_id             0.000000\n",
       "inning               0.000000\n",
       "batting_team         0.000000\n",
       "bowling_team         0.000000\n",
       "over                 0.000000\n",
       "ball                 0.000000\n",
       "batsman              0.000000\n",
       "non_striker          0.000000\n",
       "bowler               0.000000\n",
       "is_super_over        0.000000\n",
       "wide_runs            0.000000\n",
       "bye_runs             0.000000\n",
       "legbye_runs          0.000000\n",
       "noball_runs          0.000000\n",
       "penalty_runs         0.000000\n",
       "batsman_runs         0.000000\n",
       "extra_runs           0.000000\n",
       "total_runs           0.000000\n",
       "player_dismissed    95.066320\n",
       "dismissal_kind      95.066320\n",
       "fielder             96.398872\n",
       "dtype: float64"
      ]
     },
     "execution_count": 16,
     "metadata": {},
     "output_type": "execute_result"
    }
   ],
   "source": [
    "df.isnull().sum()/len(df)*100"
   ]
  },
  {
   "cell_type": "code",
   "execution_count": 17,
   "id": "b9110da0",
   "metadata": {},
   "outputs": [
    {
     "data": {
      "text/plain": [
       "0         2017\n",
       "1         2017\n",
       "2         2017\n",
       "3         2017\n",
       "4         2017\n",
       "          ... \n",
       "179073    2019\n",
       "179074    2019\n",
       "179075    2019\n",
       "179076    2019\n",
       "179077    2019\n",
       "Name: season, Length: 179055, dtype: int64"
      ]
     },
     "execution_count": 17,
     "metadata": {},
     "output_type": "execute_result"
    }
   ],
   "source": [
    "df['season']"
   ]
  },
  {
   "cell_type": "code",
   "execution_count": 18,
   "id": "38c9f054",
   "metadata": {},
   "outputs": [],
   "source": [
    "# df['season']=pd.to_datetime(df['season']).dt.year"
   ]
  },
  {
   "cell_type": "code",
   "execution_count": 19,
   "id": "e207e3c9",
   "metadata": {},
   "outputs": [
    {
     "data": {
      "text/plain": [
       "0         2017\n",
       "1         2017\n",
       "2         2017\n",
       "3         2017\n",
       "4         2017\n",
       "          ... \n",
       "179073    2019\n",
       "179074    2019\n",
       "179075    2019\n",
       "179076    2019\n",
       "179077    2019\n",
       "Name: season, Length: 179055, dtype: int64"
      ]
     },
     "execution_count": 19,
     "metadata": {},
     "output_type": "execute_result"
    }
   ],
   "source": [
    "df['season']"
   ]
  },
  {
   "cell_type": "markdown",
   "id": "0f796952",
   "metadata": {},
   "source": [
    "    city\n",
    "    venue\n",
    "    umpire3"
   ]
  },
  {
   "cell_type": "markdown",
   "id": "efdfc996",
   "metadata": {},
   "source": [
    "### City which hosted most number of seasons according to the data is:\n"
   ]
  },
  {
   "cell_type": "code",
   "execution_count": 20,
   "id": "c72fc630",
   "metadata": {},
   "outputs": [
    {
     "data": {
      "image/png": "[encoded data removed]",
      "text/plain": [
       "<Figure size 640x480 with 1 Axes>"
      ]
     },
     "metadata": {},
     "output_type": "display_data"
    }
   ],
   "source": [
    "sns.countplot(x='city',order=df['city'].value_counts().index,data=df)\n",
    "plt.xticks(rotation=80)\n",
    "plt.show()\n"
   ]
  },
  {
   "cell_type": "code",
   "execution_count": 21,
   "id": "d608f47b",
   "metadata": {},
   "outputs": [
    {
     "data": {
      "image/png": "[encoded data removed]",
      "text/plain": [
       "<Figure size 1000x600 with 1 Axes>"
      ]
     },
     "metadata": {},
     "output_type": "display_data"
    }
   ],
   "source": [
    "plt.figure(figsize=(10,6))\n",
    "sns.boxplot(x='city',y='season',data=df)\n",
    "plt.xticks(rotation=80)\n",
    "plt.show()"
   ]
  },
  {
   "cell_type": "markdown",
   "id": "444164cf",
   "metadata": {},
   "source": [
    "    Abu Dhabi\n",
    "    Delhi\n",
    "    Bengaluru\n",
    "    Mumbai"
   ]
  },
  {
   "cell_type": "code",
   "execution_count": 22,
   "id": "1767e9fc",
   "metadata": {},
   "outputs": [
    {
     "data": {
      "text/plain": [
       "Index(['match_id', 'inning', 'batting_team', 'bowling_team', 'over', 'ball',\n",
       "       'batsman', 'non_striker', 'bowler', 'is_super_over', 'wide_runs',\n",
       "       'bye_runs', 'legbye_runs', 'noball_runs', 'penalty_runs',\n",
       "       'batsman_runs', 'extra_runs', 'total_runs', 'player_dismissed',\n",
       "       'dismissal_kind', 'fielder'],\n",
       "      dtype='object')"
      ]
     },
     "execution_count": 22,
     "metadata": {},
     "output_type": "execute_result"
    }
   ],
   "source": [
    "df2.columns"
   ]
  },
  {
   "cell_type": "code",
   "execution_count": 23,
   "id": "00e8c1ac",
   "metadata": {},
   "outputs": [
    {
     "data": {
      "text/plain": [
       "Index(['id', 'season', 'city', 'date', 'team1', 'team2', 'toss_winner',\n",
       "       'toss_decision', 'result', 'dl_applied', 'winner', 'win_by_runs',\n",
       "       'win_by_wickets', 'player_of_match', 'venue', 'umpire1', 'umpire2',\n",
       "       'umpire3'],\n",
       "      dtype='object')"
      ]
     },
     "execution_count": 23,
     "metadata": {},
     "output_type": "execute_result"
    }
   ],
   "source": [
    "df1.columns"
   ]
  },
  {
   "cell_type": "code",
   "execution_count": 24,
   "id": "010457c0",
   "metadata": {
    "scrolled": true
   },
   "outputs": [
    {
     "data": {
      "text/html": [
       "<div>\n",
       "<style scoped>\n",
       "    .dataframe tbody tr th:only-of-type {\n",
       "        vertical-align: middle;\n",
       "    }\n",
       "\n",
       "    .dataframe tbody tr th {\n",
       "        vertical-align: top;\n",
       "    }\n",
       "\n",
       "    .dataframe thead th {\n",
       "        text-align: right;\n",
       "    }\n",
       "</style>\n",
       "<table border=\"1\" class=\"dataframe\">\n",
       "  <thead>\n",
       "    <tr style=\"text-align: right;\">\n",
       "      <th></th>\n",
       "      <th>season</th>\n",
       "      <th>city</th>\n",
       "    </tr>\n",
       "  </thead>\n",
       "  <tbody>\n",
       "    <tr>\n",
       "      <th>0</th>\n",
       "      <td>2008</td>\n",
       "      <td>13489</td>\n",
       "    </tr>\n",
       "    <tr>\n",
       "      <th>1</th>\n",
       "      <td>2009</td>\n",
       "      <td>13606</td>\n",
       "    </tr>\n",
       "    <tr>\n",
       "      <th>2</th>\n",
       "      <td>2010</td>\n",
       "      <td>14497</td>\n",
       "    </tr>\n",
       "    <tr>\n",
       "      <th>3</th>\n",
       "      <td>2011</td>\n",
       "      <td>17013</td>\n",
       "    </tr>\n",
       "    <tr>\n",
       "      <th>4</th>\n",
       "      <td>2012</td>\n",
       "      <td>17767</td>\n",
       "    </tr>\n",
       "    <tr>\n",
       "      <th>5</th>\n",
       "      <td>2013</td>\n",
       "      <td>18177</td>\n",
       "    </tr>\n",
       "    <tr>\n",
       "      <th>6</th>\n",
       "      <td>2014</td>\n",
       "      <td>14300</td>\n",
       "    </tr>\n",
       "    <tr>\n",
       "      <th>7</th>\n",
       "      <td>2015</td>\n",
       "      <td>13652</td>\n",
       "    </tr>\n",
       "    <tr>\n",
       "      <th>8</th>\n",
       "      <td>2016</td>\n",
       "      <td>14096</td>\n",
       "    </tr>\n",
       "    <tr>\n",
       "      <th>9</th>\n",
       "      <td>2017</td>\n",
       "      <td>13862</td>\n",
       "    </tr>\n",
       "    <tr>\n",
       "      <th>10</th>\n",
       "      <td>2018</td>\n",
       "      <td>14286</td>\n",
       "    </tr>\n",
       "    <tr>\n",
       "      <th>11</th>\n",
       "      <td>2019</td>\n",
       "      <td>14310</td>\n",
       "    </tr>\n",
       "  </tbody>\n",
       "</table>\n",
       "</div>"
      ],
      "text/plain": [
       "    season   city\n",
       "0     2008  13489\n",
       "1     2009  13606\n",
       "2     2010  14497\n",
       "3     2011  17013\n",
       "4     2012  17767\n",
       "5     2013  18177\n",
       "6     2014  14300\n",
       "7     2015  13652\n",
       "8     2016  14096\n",
       "9     2017  13862\n",
       "10    2018  14286\n",
       "11    2019  14310"
      ]
     },
     "execution_count": 24,
     "metadata": {},
     "output_type": "execute_result"
    }
   ],
   "source": [
    "df.groupby('season')['city'].size().reset_index()"
   ]
  },
  {
   "cell_type": "code",
   "execution_count": 25,
   "id": "2cd5c5ae",
   "metadata": {},
   "outputs": [
    {
     "data": {
      "text/plain": [
       "<Axes: xlabel='city'>"
      ]
     },
     "execution_count": 25,
     "metadata": {},
     "output_type": "execute_result"
    },
    {
     "data": {
      "image/png": "[encoded data removed]",
      "text/plain": [
       "<Figure size 640x480 with 1 Axes>"
      ]
     },
     "metadata": {},
     "output_type": "display_data"
    }
   ],
   "source": [
    "count=df.groupby(['season','city']).size().reset_index(name='count')\n",
    "\n",
    "count.groupby('city')['count'].sum().plot(kind='bar')"
   ]
  },
  {
   "cell_type": "markdown",
   "id": "c26e3d88",
   "metadata": {},
   "source": [
    " ### Which year has the most number of matches played?\n"
   ]
  },
  {
   "cell_type": "code",
   "execution_count": 26,
   "id": "7056cbf6",
   "metadata": {},
   "outputs": [
    {
     "data": {
      "text/plain": [
       "Index(['id', 'season', 'city', 'date', 'team1', 'team2', 'toss_winner',\n",
       "       'toss_decision', 'result', 'dl_applied', 'winner', 'win_by_runs',\n",
       "       'win_by_wickets', 'player_of_match', 'venue', 'umpire1', 'umpire2',\n",
       "       'umpire3', 'match_id', 'inning', 'batting_team', 'bowling_team', 'over',\n",
       "       'ball', 'batsman', 'non_striker', 'bowler', 'is_super_over',\n",
       "       'wide_runs', 'bye_runs', 'legbye_runs', 'noball_runs', 'penalty_runs',\n",
       "       'batsman_runs', 'extra_runs', 'total_runs', 'player_dismissed',\n",
       "       'dismissal_kind', 'fielder'],\n",
       "      dtype='object')"
      ]
     },
     "execution_count": 26,
     "metadata": {},
     "output_type": "execute_result"
    }
   ],
   "source": [
    "df.columns"
   ]
  },
  {
   "cell_type": "code",
   "execution_count": 27,
   "id": "f2daf714",
   "metadata": {},
   "outputs": [
    {
     "data": {
      "text/plain": [
       "2013"
      ]
     },
     "execution_count": 27,
     "metadata": {},
     "output_type": "execute_result"
    }
   ],
   "source": [
    "df['season'].value_counts().idxmax()"
   ]
  },
  {
   "cell_type": "code",
   "execution_count": 28,
   "id": "3becabbc",
   "metadata": {},
   "outputs": [
    {
     "data": {
      "text/plain": [
       "season\n",
       "2013    18177\n",
       "2012    17767\n",
       "2011    17013\n",
       "2010    14497\n",
       "2019    14310\n",
       "2014    14300\n",
       "2018    14286\n",
       "2016    14096\n",
       "2017    13862\n",
       "2015    13652\n",
       "2009    13606\n",
       "2008    13489\n",
       "Name: count, dtype: int64"
      ]
     },
     "execution_count": 28,
     "metadata": {},
     "output_type": "execute_result"
    }
   ],
   "source": [
    "df['season'].value_counts()"
   ]
  },
  {
   "cell_type": "code",
   "execution_count": 29,
   "id": "775ed9f0",
   "metadata": {},
   "outputs": [
    {
     "data": {
      "text/plain": [
       "0         2017\n",
       "1         2017\n",
       "2         2017\n",
       "3         2017\n",
       "4         2017\n",
       "          ... \n",
       "179073    2019\n",
       "179074    2019\n",
       "179075    2019\n",
       "179076    2019\n",
       "179077    2019\n",
       "Name: season, Length: 179055, dtype: int64"
      ]
     },
     "execution_count": 29,
     "metadata": {},
     "output_type": "execute_result"
    }
   ],
   "source": [
    "df['season']"
   ]
  },
  {
   "cell_type": "markdown",
   "id": "7d36df6e",
   "metadata": {},
   "source": [
    "### Maximum wins by Mumbai Indians in 2011 are\n"
   ]
  },
  {
   "cell_type": "code",
   "execution_count": 30,
   "id": "d4dde9b8",
   "metadata": {},
   "outputs": [],
   "source": [
    "# (df.loc[df['team1']==\"Mumbai Indians\"])|( df.loc[df['team2']==\"Mumbai Indians\"])"
   ]
  },
  {
   "cell_type": "code",
   "execution_count": 31,
   "id": "633b8813",
   "metadata": {
    "scrolled": true
   },
   "outputs": [
    {
     "data": {
      "text/plain": [
       "10"
      ]
     },
     "execution_count": 31,
     "metadata": {},
     "output_type": "execute_result"
    }
   ],
   "source": [
    "match=df1[((df1['team1'] == 'Mumbai Indians') | (df1['team2'] == 'Mumbai Indians')) & (df1['season'] == 2011)]\n",
    "\n",
    "# [match['winner']=='Mumbai Indians'].shape[0]\n",
    "\n",
    "\n",
    "match[match['winner'] == 'Mumbai Indians'].shape[0]"
   ]
  },
  {
   "cell_type": "markdown",
   "id": "994c3cef",
   "metadata": {},
   "source": [
    "6. For 'toss_decision' feature what kind of plot is suitable?\n"
   ]
  },
  {
   "cell_type": "code",
   "execution_count": 32,
   "id": "824e7293",
   "metadata": {},
   "outputs": [
    {
     "data": {
      "text/plain": [
       "Index(['id', 'season', 'city', 'date', 'team1', 'team2', 'toss_winner',\n",
       "       'toss_decision', 'result', 'dl_applied', 'winner', 'win_by_runs',\n",
       "       'win_by_wickets', 'player_of_match', 'venue', 'umpire1', 'umpire2',\n",
       "       'umpire3', 'match_id', 'inning', 'batting_team', 'bowling_team', 'over',\n",
       "       'ball', 'batsman', 'non_striker', 'bowler', 'is_super_over',\n",
       "       'wide_runs', 'bye_runs', 'legbye_runs', 'noball_runs', 'penalty_runs',\n",
       "       'batsman_runs', 'extra_runs', 'total_runs', 'player_dismissed',\n",
       "       'dismissal_kind', 'fielder'],\n",
       "      dtype='object')"
      ]
     },
     "execution_count": 32,
     "metadata": {},
     "output_type": "execute_result"
    }
   ],
   "source": [
    "df.columns"
   ]
  },
  {
   "cell_type": "code",
   "execution_count": 33,
   "id": "9c7bf3b6",
   "metadata": {},
   "outputs": [
    {
     "data": {
      "text/plain": [
       "<Axes: xlabel='toss_decision', ylabel='count'>"
      ]
     },
     "execution_count": 33,
     "metadata": {},
     "output_type": "execute_result"
    },
    {
     "data": {
      "image/png": "[encoded data removed]",
      "text/plain": [
       "<Figure size 640x480 with 1 Axes>"
      ]
     },
     "metadata": {},
     "output_type": "display_data"
    }
   ],
   "source": [
    "sns.countplot(x='toss_decision',data=df)"
   ]
  },
  {
   "cell_type": "markdown",
   "id": "41e983bc",
   "metadata": {},
   "source": [
    " ### In which years where taking batting second have won more number of matches?"
   ]
  },
  {
   "cell_type": "code",
   "execution_count": 34,
   "id": "0508a3de",
   "metadata": {
    "scrolled": false
   },
   "outputs": [
    {
     "data": {
      "text/plain": [
       "Index(['id', 'season', 'city', 'date', 'team1', 'team2', 'toss_winner',\n",
       "       'toss_decision', 'result', 'dl_applied', 'winner', 'win_by_runs',\n",
       "       'win_by_wickets', 'player_of_match', 'venue', 'umpire1', 'umpire2',\n",
       "       'umpire3', 'match_id', 'inning', 'batting_team', 'bowling_team', 'over',\n",
       "       'ball', 'batsman', 'non_striker', 'bowler', 'is_super_over',\n",
       "       'wide_runs', 'bye_runs', 'legbye_runs', 'noball_runs', 'penalty_runs',\n",
       "       'batsman_runs', 'extra_runs', 'total_runs', 'player_dismissed',\n",
       "       'dismissal_kind', 'fielder'],\n",
       "      dtype='object')"
      ]
     },
     "execution_count": 34,
     "metadata": {},
     "output_type": "execute_result"
    }
   ],
   "source": [
    "df.columns"
   ]
  },
  {
   "cell_type": "code",
   "execution_count": 35,
   "id": "38ccbb9c",
   "metadata": {
    "scrolled": false
   },
   "outputs": [],
   "source": [
    "# b=df[df['toss_decision'] == 'field']['winner'].value_counts()\n",
    "# b.groupby(df['season']).sum().idxmax()"
   ]
  },
  {
   "cell_type": "code",
   "execution_count": 36,
   "id": "36ae21e7",
   "metadata": {},
   "outputs": [],
   "source": [
    "# years_with_more_batting_second_wins = batting_second_wins.groupby(df_matches['season']).sum().idxmax()\n",
    "\n",
    "# print(f\"In the year(s) {years_with_more_batting_second_wins}, teams batting second have won more matches.\")"
   ]
  },
  {
   "cell_type": "code",
   "execution_count": 37,
   "id": "583f991c",
   "metadata": {},
   "outputs": [
    {
     "data": {
      "text/plain": [
       "Series([], Name: count, dtype: int64)"
      ]
     },
     "execution_count": 37,
     "metadata": {},
     "output_type": "execute_result"
    }
   ],
   "source": [
    "df[df['toss_decision'] == 'field']['winner'].value_counts().groupby(df['season']).sum()\n"
   ]
  },
  {
   "cell_type": "code",
   "execution_count": 38,
   "id": "4be42224",
   "metadata": {},
   "outputs": [],
   "source": [
    "f=df[df['toss_decision']=='field']['winner'].value_counts()"
   ]
  },
  {
   "cell_type": "code",
   "execution_count": 42,
   "id": "050fea69",
   "metadata": {},
   "outputs": [],
   "source": [
    "# f.groupby(df['season']).sum().idxmax()"
   ]
  },
  {
   "cell_type": "code",
   "execution_count": 43,
   "id": "b4443f7f",
   "metadata": {},
   "outputs": [],
   "source": [
    "# batting_second_wins = df[df['toss_decision'] == 'field']['winner'].value_counts()\n",
    "\n",
    "# years_with_more_batting_second_wins = df.groupby(df['season']).sum().idxmax()\n",
    "\n",
    "# print(f\"In the year(s) {years_with_more_batting_second_wins}, teams batting second have won more matches.\")"
   ]
  },
  {
   "cell_type": "markdown",
   "id": "26e3b697",
   "metadata": {},
   "source": [
    "### 10. To plot the most consistent batsmen among top 10 run getters, what plotting technique we use?"
   ]
  },
  {
   "cell_type": "code",
   "execution_count": 44,
   "id": "deaae54d",
   "metadata": {},
   "outputs": [
    {
     "data": {
      "text/plain": [
       "Index(['id', 'season', 'city', 'date', 'team1', 'team2', 'toss_winner',\n",
       "       'toss_decision', 'result', 'dl_applied', 'winner', 'win_by_runs',\n",
       "       'win_by_wickets', 'player_of_match', 'venue', 'umpire1', 'umpire2',\n",
       "       'umpire3', 'match_id', 'inning', 'batting_team', 'bowling_team', 'over',\n",
       "       'ball', 'batsman', 'non_striker', 'bowler', 'is_super_over',\n",
       "       'wide_runs', 'bye_runs', 'legbye_runs', 'noball_runs', 'penalty_runs',\n",
       "       'batsman_runs', 'extra_runs', 'total_runs', 'player_dismissed',\n",
       "       'dismissal_kind', 'fielder'],\n",
       "      dtype='object')"
      ]
     },
     "execution_count": 44,
     "metadata": {},
     "output_type": "execute_result"
    }
   ],
   "source": [
    "df.columns"
   ]
  },
  {
   "cell_type": "code",
   "execution_count": 45,
   "id": "db192bd2",
   "metadata": {},
   "outputs": [
    {
     "data": {
      "text/plain": [
       "batsman\n",
       "V Kohli          4211\n",
       "SK Raina         4044\n",
       "RG Sharma        3816\n",
       "S Dhawan         3775\n",
       "G Gambhir        3524\n",
       "                 ... \n",
       "K Ahmed             1\n",
       "U Kaul              1\n",
       "DP Vijaykumar       1\n",
       "P Raj               1\n",
       "LH Ferguson         1\n",
       "Name: count, Length: 516, dtype: int64"
      ]
     },
     "execution_count": 45,
     "metadata": {},
     "output_type": "execute_result"
    }
   ],
   "source": [
    "df['batsman'].value_counts()"
   ]
  },
  {
   "cell_type": "markdown",
   "id": "736e4bbe",
   "metadata": {},
   "source": [
    "### 11. In 2019 which batsman scored highest number of runs by hitting 6's and 4's?"
   ]
  },
  {
   "cell_type": "code",
   "execution_count": 46,
   "id": "8d7d4d54",
   "metadata": {},
   "outputs": [],
   "source": [
    "df['runs_2019']=df[df['season']==2019]['season']"
   ]
  },
  {
   "cell_type": "code",
   "execution_count": 47,
   "id": "877eba9e",
   "metadata": {
    "scrolled": true
   },
   "outputs": [
    {
     "data": {
      "text/plain": [
       "batsman\n",
       "AD Russell     84\n",
       "CH Gayle       81\n",
       "DA Warner      79\n",
       "S Dhawan       76\n",
       "KL Rahul       75\n",
       "               ..\n",
       "P Negi          1\n",
       "DS Kulkarni     1\n",
       "K Rabada        1\n",
       "TA Boult        1\n",
       "N Naik          1\n",
       "Name: count, Length: 108, dtype: int64"
      ]
     },
     "execution_count": 47,
     "metadata": {},
     "output_type": "execute_result"
    }
   ],
   "source": [
    "df[((df['batsman_runs']==4) | ((df['batsman_runs']==6))) & (df['season']==2019)]['batsman'].value_counts()"
   ]
  },
  {
   "cell_type": "code",
   "execution_count": 48,
   "id": "b9717327",
   "metadata": {},
   "outputs": [],
   "source": [
    "g=df.groupby(['batsman','runs_2019'])"
   ]
  },
  {
   "cell_type": "code",
   "execution_count": 49,
   "id": "8c857923",
   "metadata": {},
   "outputs": [],
   "source": [
    "bats=df[(df['season']==2019) & ((df['batsman_runs']==4 )| (df['batsman_runs'] ==6))]"
   ]
  },
  {
   "cell_type": "code",
   "execution_count": 50,
   "id": "b7500ef7",
   "metadata": {
    "scrolled": false
   },
   "outputs": [],
   "source": [
    "b=bats.groupby(df['batsman'])['batsman_runs'].sum().reset_index()"
   ]
  },
  {
   "cell_type": "code",
   "execution_count": 51,
   "id": "579d18f0",
   "metadata": {
    "scrolled": true
   },
   "outputs": [
    {
     "data": {
      "text/plain": [
       "4"
      ]
     },
     "execution_count": 51,
     "metadata": {},
     "output_type": "execute_result"
    }
   ],
   "source": [
    "b['batsman_runs'].idxmax()\n"
   ]
  },
  {
   "cell_type": "code",
   "execution_count": 52,
   "id": "b5cf8517",
   "metadata": {},
   "outputs": [
    {
     "data": {
      "text/plain": [
       "batsman         AD Russell\n",
       "batsman_runs           438\n",
       "Name: 4, dtype: object"
      ]
     },
     "execution_count": 52,
     "metadata": {},
     "output_type": "execute_result"
    }
   ],
   "source": [
    "b.loc[4]"
   ]
  },
  {
   "cell_type": "markdown",
   "id": "f8757694",
   "metadata": {},
   "source": [
    "### 12. Most number of wickets taken by a bowler is\n"
   ]
  },
  {
   "cell_type": "code",
   "execution_count": 53,
   "id": "38cf6c29",
   "metadata": {},
   "outputs": [
    {
     "data": {
      "text/plain": [
       "Index(['id', 'season', 'city', 'date', 'team1', 'team2', 'toss_winner',\n",
       "       'toss_decision', 'result', 'dl_applied', 'winner', 'win_by_runs',\n",
       "       'win_by_wickets', 'player_of_match', 'venue', 'umpire1', 'umpire2',\n",
       "       'umpire3', 'match_id', 'inning', 'batting_team', 'bowling_team', 'over',\n",
       "       'ball', 'batsman', 'non_striker', 'bowler', 'is_super_over',\n",
       "       'wide_runs', 'bye_runs', 'legbye_runs', 'noball_runs', 'penalty_runs',\n",
       "       'batsman_runs', 'extra_runs', 'total_runs', 'player_dismissed',\n",
       "       'dismissal_kind', 'fielder', 'runs_2019'],\n",
       "      dtype='object')"
      ]
     },
     "execution_count": 53,
     "metadata": {},
     "output_type": "execute_result"
    }
   ],
   "source": [
    "df.columns"
   ]
  },
  {
   "cell_type": "code",
   "execution_count": null,
   "id": "444a2faf",
   "metadata": {},
   "outputs": [],
   "source": [
    "# mode_value = df['player_dismissed'].mode()[0]\n",
    "\n",
    "# df['player_dismissed'].fillna(\"unknown\", inplace=True)\n"
   ]
  },
  {
   "cell_type": "code",
   "execution_count": null,
   "id": "0c4020d1",
   "metadata": {},
   "outputs": [],
   "source": [
    "# df['player_dismissed'].isna().sum()"
   ]
  },
  {
   "cell_type": "code",
   "execution_count": null,
   "id": "1c28a0f0",
   "metadata": {},
   "outputs": [],
   "source": [
    "#  Most number of wickets taken by a bowler "
   ]
  },
  {
   "cell_type": "code",
   "execution_count": null,
   "id": "5b0c7624",
   "metadata": {},
   "outputs": [],
   "source": []
  },
  {
   "cell_type": "code",
   "execution_count": 74,
   "id": "63858f3e",
   "metadata": {
    "scrolled": false
   },
   "outputs": [
    {
     "name": "stdout",
     "output_type": "stream",
     "text": [
      "bowler           SL Malinga\n",
      "wickets_taken           188\n",
      "Name: 294, dtype: object\n"
     ]
    }
   ],
   "source": [
    "\n",
    "df1 = df[df['player_dismissed'].notnull()]\n",
    "\n",
    "count = df1.groupby('bowler').size().reset_index(name='wickets_taken')\n",
    "\n",
    "bowler = count.loc[wickets_count['wickets_taken'].idxmax()]\n",
    "\n",
    "print(bowler)"
   ]
  },
  {
   "cell_type": "markdown",
   "id": "d0607819",
   "metadata": {},
   "source": [
    "### 13.  What is the strike rate of Kohli in 2016\n",
    "\n",
    "HINT: strike rate = (Total Runs / Total Balls Faced) * 100"
   ]
  },
  {
   "cell_type": "code",
   "execution_count": null,
   "id": "e28b565b",
   "metadata": {},
   "outputs": [],
   "source": [
    "year=df[(df['batsman']=='V Kohli' ) &(df['season']==2016)]\n",
    "\n",
    "total_runs=year['batsman_runs'].sum()\n",
    "total_balls=year['ball'].sum()\n",
    "strike=(total_runs/total_balls)*100\n",
    "print(strike)"
   ]
  },
  {
   "cell_type": "markdown",
   "id": "2eb1f164",
   "metadata": {},
   "source": [
    "### 14.  Bowlers with maximum number of extras:\n"
   ]
  },
  {
   "cell_type": "code",
   "execution_count": null,
   "id": "06f6e0b7",
   "metadata": {},
   "outputs": [],
   "source": [
    "xtras_df = df[df['extra_runs'] > 0]\n",
    "\n",
    "# Group by 'bowler' and sum the number of extras\n",
    "extras_count = extras_df.groupby('bowler')['extra_runs'].sum().reset_index(name='total_extras')\n",
    "\n",
    "# Identify the bowler(s) with the maximum number of extras\n",
    "max_extras_bowlers = extras_count[extras_count['total_extras'] == extras_count['total_extras'].max()]\n",
    "\n",
    "# Display the bowlers with the maximum number of extras\n",
    "print(\"Bowlers with the maximum number of extras:\")\n",
    "print(max_extras_bowlers)"
   ]
  },
  {
   "cell_type": "code",
   "execution_count": null,
   "id": "86c4c636",
   "metadata": {},
   "outputs": [],
   "source": []
  },
  {
   "cell_type": "code",
   "execution_count": 117,
   "id": "1dfdf970",
   "metadata": {},
   "outputs": [
    {
     "data": {
      "text/plain": [
       "340"
      ]
     },
     "execution_count": 117,
     "metadata": {},
     "output_type": "execute_result"
    }
   ],
   "source": [
    "df1=df[df['extra_runs']>0]\n",
    "\n",
    "counts=df.groupby('bowler')['extra_runs'].sum().reset_index(name='extra runs')\n",
    "\n",
    "\n",
    "counts['extra runs'].idxmax()"
   ]
  },
  {
   "cell_type": "code",
   "execution_count": 119,
   "id": "966682ff",
   "metadata": {},
   "outputs": [
    {
     "data": {
      "text/plain": [
       "bowler        SL Malinga\n",
       "extra runs           293\n",
       "Name: 340, dtype: object"
      ]
     },
     "execution_count": 119,
     "metadata": {},
     "output_type": "execute_result"
    }
   ],
   "source": [
    "counts.loc[340]"
   ]
  },
  {
   "cell_type": "code",
   "execution_count": 111,
   "id": "c66fc6a9",
   "metadata": {
    "scrolled": true
   },
   "outputs": [
    {
     "data": {
      "text/html": [
       "<div>\n",
       "<style scoped>\n",
       "    .dataframe tbody tr th:only-of-type {\n",
       "        vertical-align: middle;\n",
       "    }\n",
       "\n",
       "    .dataframe tbody tr th {\n",
       "        vertical-align: top;\n",
       "    }\n",
       "\n",
       "    .dataframe thead th {\n",
       "        text-align: right;\n",
       "    }\n",
       "</style>\n",
       "<table border=\"1\" class=\"dataframe\">\n",
       "  <thead>\n",
       "    <tr style=\"text-align: right;\">\n",
       "      <th></th>\n",
       "      <th>bowler</th>\n",
       "      <th>extra runs</th>\n",
       "    </tr>\n",
       "  </thead>\n",
       "  <tbody>\n",
       "    <tr>\n",
       "      <th>0</th>\n",
       "      <td>A Ashish Reddy</td>\n",
       "      <td>14</td>\n",
       "    </tr>\n",
       "    <tr>\n",
       "      <th>1</th>\n",
       "      <td>A Chandila</td>\n",
       "      <td>3</td>\n",
       "    </tr>\n",
       "    <tr>\n",
       "      <th>2</th>\n",
       "      <td>A Choudhary</td>\n",
       "      <td>7</td>\n",
       "    </tr>\n",
       "    <tr>\n",
       "      <th>3</th>\n",
       "      <td>A Dananjaya</td>\n",
       "      <td>1</td>\n",
       "    </tr>\n",
       "    <tr>\n",
       "      <th>4</th>\n",
       "      <td>A Flintoff</td>\n",
       "      <td>1</td>\n",
       "    </tr>\n",
       "    <tr>\n",
       "      <th>...</th>\n",
       "      <td>...</td>\n",
       "      <td>...</td>\n",
       "    </tr>\n",
       "    <tr>\n",
       "      <th>400</th>\n",
       "      <td>YA Abdulla</td>\n",
       "      <td>17</td>\n",
       "    </tr>\n",
       "    <tr>\n",
       "      <th>401</th>\n",
       "      <td>YK Pathan</td>\n",
       "      <td>71</td>\n",
       "    </tr>\n",
       "    <tr>\n",
       "      <th>402</th>\n",
       "      <td>YS Chahal</td>\n",
       "      <td>116</td>\n",
       "    </tr>\n",
       "    <tr>\n",
       "      <th>403</th>\n",
       "      <td>Yuvraj Singh</td>\n",
       "      <td>27</td>\n",
       "    </tr>\n",
       "    <tr>\n",
       "      <th>404</th>\n",
       "      <td>Z Khan</td>\n",
       "      <td>169</td>\n",
       "    </tr>\n",
       "  </tbody>\n",
       "</table>\n",
       "<p>405 rows × 2 columns</p>\n",
       "</div>"
      ],
      "text/plain": [
       "             bowler  extra runs\n",
       "0    A Ashish Reddy          14\n",
       "1        A Chandila           3\n",
       "2       A Choudhary           7\n",
       "3       A Dananjaya           1\n",
       "4        A Flintoff           1\n",
       "..              ...         ...\n",
       "400      YA Abdulla          17\n",
       "401       YK Pathan          71\n",
       "402       YS Chahal         116\n",
       "403    Yuvraj Singh          27\n",
       "404          Z Khan         169\n",
       "\n",
       "[405 rows x 2 columns]"
      ]
     },
     "execution_count": 111,
     "metadata": {},
     "output_type": "execute_result"
    }
   ],
   "source": [
    "counts"
   ]
  },
  {
   "cell_type": "code",
   "execution_count": null,
   "id": "64ceb35a",
   "metadata": {},
   "outputs": [],
   "source": []
  },
  {
   "cell_type": "markdown",
   "id": "5594c874",
   "metadata": {},
   "source": [
    "### 15. Which venue has hosted most number of IPL matches?\n"
   ]
  },
  {
   "cell_type": "code",
   "execution_count": 131,
   "id": "3a6dd501",
   "metadata": {},
   "outputs": [
    {
     "data": {
      "text/plain": [
       "venue    Eden Gardens\n",
       "count           17989\n",
       "Name: 0, dtype: object"
      ]
     },
     "execution_count": 131,
     "metadata": {},
     "output_type": "execute_result"
    }
   ],
   "source": [
    "counts=df['venue'].value_counts().reset_index(name='count')\n",
    "\n",
    "counts.loc[counts['count'].idxmax()]"
   ]
  },
  {
   "cell_type": "markdown",
   "id": "0303be09",
   "metadata": {},
   "source": [
    "### 16. In 2017 when sunrisers hyderabad clashed against Royal Challengers Bangalore which team player won player of the match?"
   ]
  },
  {
   "cell_type": "code",
   "execution_count": null,
   "id": "f882c522",
   "metadata": {},
   "outputs": [],
   "source": [
    "\n",
    "# Filter the DataFrame for the specified match in 2017\n",
    "match_2017 = df[(df['season'] == 2017) & (df['team1'] == 'Sunrisers Hyderabad') & (df['team2'] == 'Royal Challengers Bangalore')]\n",
    "\n",
    "# Get the Player of the Match for the specified match\n",
    "player_of_the_match = match_2017['player_of_match'].iloc[0]\n",
    "\n",
    "# Display the result\n",
    "print(f\"In the match between Sunrisers Hyderabad and Royal Challengers Bangalore in 2017, the Player of the Match was: {player_of_the_match}\")\n"
   ]
  },
  {
   "cell_type": "code",
   "execution_count": 137,
   "id": "13ef528f",
   "metadata": {},
   "outputs": [],
   "source": [
    "year=df[(df['season']==2017) & (df['team1']=='Sunrisers Hyderabad') & (df['team2']=='Royal Challengers Bangalore')]"
   ]
  },
  {
   "cell_type": "code",
   "execution_count": 140,
   "id": "a55897da",
   "metadata": {
    "scrolled": true
   },
   "outputs": [
    {
     "data": {
      "text/plain": [
       "'Yuvraj Singh'"
      ]
     },
     "execution_count": 140,
     "metadata": {},
     "output_type": "execute_result"
    }
   ],
   "source": [
    "year['player_of_match'][0]"
   ]
  },
  {
   "cell_type": "markdown",
   "id": "eb07805a",
   "metadata": {},
   "source": [
    "### 17. Across seasons who are the top three batsman's with most number of run out?\n"
   ]
  },
  {
   "cell_type": "code",
   "execution_count": null,
   "id": "1f71d94c",
   "metadata": {},
   "outputs": [],
   "source": [
    "run_out_df = df[df['dismissal_kind'] == 'run out']\n",
    "\n",
    "# Group by 'batsman' and count the number of run-outs\n",
    "run_out_counts = run_out_df['batsman'].value_counts().reset_index(name='run_out_count')\n",
    "\n",
    "# Get the top three batsmen with the most run-outs\n",
    "top_three_run_out_batsmen = run_out_counts.head(3)\n",
    "\n",
    "# Display the result\n",
    "print(\"Top three batsmen with the most number of run-outs across seasons:\")\n",
    "print(top_three_run_out_batsmen)"
   ]
  },
  {
   "cell_type": "code",
   "execution_count": 141,
   "id": "067c9e44",
   "metadata": {},
   "outputs": [],
   "source": [
    "df1=df[df['dismissal_kind']=='run out']"
   ]
  },
  {
   "cell_type": "code",
   "execution_count": 149,
   "id": "8039c20a",
   "metadata": {},
   "outputs": [
    {
     "data": {
      "text/html": [
       "<div>\n",
       "<style scoped>\n",
       "    .dataframe tbody tr th:only-of-type {\n",
       "        vertical-align: middle;\n",
       "    }\n",
       "\n",
       "    .dataframe tbody tr th {\n",
       "        vertical-align: top;\n",
       "    }\n",
       "\n",
       "    .dataframe thead th {\n",
       "        text-align: right;\n",
       "    }\n",
       "</style>\n",
       "<table border=\"1\" class=\"dataframe\">\n",
       "  <thead>\n",
       "    <tr style=\"text-align: right;\">\n",
       "      <th></th>\n",
       "      <th>batsman</th>\n",
       "      <th>run_out</th>\n",
       "    </tr>\n",
       "  </thead>\n",
       "  <tbody>\n",
       "    <tr>\n",
       "      <th>0</th>\n",
       "      <td>MS Dhoni</td>\n",
       "      <td>21</td>\n",
       "    </tr>\n",
       "    <tr>\n",
       "      <th>1</th>\n",
       "      <td>RG Sharma</td>\n",
       "      <td>17</td>\n",
       "    </tr>\n",
       "    <tr>\n",
       "      <th>2</th>\n",
       "      <td>KD Karthik</td>\n",
       "      <td>16</td>\n",
       "    </tr>\n",
       "    <tr>\n",
       "      <th>3</th>\n",
       "      <td>G Gambhir</td>\n",
       "      <td>15</td>\n",
       "    </tr>\n",
       "    <tr>\n",
       "      <th>4</th>\n",
       "      <td>V Kohli</td>\n",
       "      <td>15</td>\n",
       "    </tr>\n",
       "  </tbody>\n",
       "</table>\n",
       "</div>"
      ],
      "text/plain": [
       "      batsman  run_out\n",
       "0    MS Dhoni       21\n",
       "1   RG Sharma       17\n",
       "2  KD Karthik       16\n",
       "3   G Gambhir       15\n",
       "4     V Kohli       15"
      ]
     },
     "execution_count": 149,
     "metadata": {},
     "output_type": "execute_result"
    }
   ],
   "source": [
    "top_player_out=df1['batsman'].value_counts().reset_index(name='run_out')\n",
    "\n",
    "top_player_out.head(5)"
   ]
  },
  {
   "cell_type": "code",
   "execution_count": 153,
   "id": "f23394e9",
   "metadata": {},
   "outputs": [
    {
     "data": {
      "image/png": "[encoded data removed]",
      "text/plain": [
       "<Figure size 1000x600 with 1 Axes>"
      ]
     },
     "metadata": {},
     "output_type": "display_data"
    }
   ],
   "source": [
    "\n",
    "plt.figure(figsize=(10, 6))\n",
    "sns.barplot(x='run_out', y='batsman', data=top_player_out.head(5), palette='viridis')\n",
    "plt.title('Top Five Batsmen with Most Run-Outs Across Seasons')\n",
    "plt.xlabel('Number of Run-Outs')\n",
    "plt.ylabel('Batsman')\n",
    "plt.show()\n"
   ]
  },
  {
   "cell_type": "code",
   "execution_count": 154,
   "id": "c4d1fa5d",
   "metadata": {},
   "outputs": [],
   "source": [
    "kohli_vs_bumrah = df[(df['batsman'] == 'Kohli') & (df['bowler'] == 'JJ Bumrah')]\n",
    "\n",
    "total_runs_kohli_vs_bumrah = kohli_vs_bumrah['batsman_runs'].sum()"
   ]
  },
  {
   "cell_type": "code",
   "execution_count": 155,
   "id": "44b4dfeb",
   "metadata": {
    "scrolled": true
   },
   "outputs": [
    {
     "data": {
      "text/plain": [
       "0"
      ]
     },
     "execution_count": 155,
     "metadata": {},
     "output_type": "execute_result"
    }
   ],
   "source": [
    "total_runs_kohli_vs_bumrah"
   ]
  },
  {
   "cell_type": "markdown",
   "id": "c903e54d",
   "metadata": {},
   "source": [
    "### 19. Across all seasons which player was dismissed the maximum number of times via caught and bowled"
   ]
  },
  {
   "cell_type": "code",
   "execution_count": 156,
   "id": "c72108e8",
   "metadata": {},
   "outputs": [],
   "source": [
    "df1= df[df['dismissal_kind'] == 'caught and bowled']\n",
    "\n",
    "\n",
    "counts = df1['batsman'].value_counts().reset_index(name='dismissals_count')\n",
    "\n",
    "\n",
    "player = counts.loc[counts['dismissals_count'].idxmax()]\n"
   ]
  },
  {
   "cell_type": "code",
   "execution_count": 157,
   "id": "129f8b35",
   "metadata": {},
   "outputs": [
    {
     "data": {
      "text/plain": [
       "batsman             SK Raina\n",
       "dismissals_count           7\n",
       "Name: 0, dtype: object"
      ]
     },
     "execution_count": 157,
     "metadata": {},
     "output_type": "execute_result"
    }
   ],
   "source": [
    "player"
   ]
  },
  {
   "cell_type": "code",
   "execution_count": 161,
   "id": "b5336447",
   "metadata": {},
   "outputs": [
    {
     "data": {
      "text/plain": [
       "Index(['id', 'season', 'city', 'date', 'team1', 'team2', 'toss_winner',\n",
       "       'toss_decision', 'result', 'dl_applied', 'winner', 'win_by_runs',\n",
       "       'win_by_wickets', 'player_of_match', 'venue', 'umpire1', 'umpire2',\n",
       "       'umpire3', 'match_id', 'inning', 'batting_team', 'bowling_team', 'over',\n",
       "       'ball', 'batsman', 'non_striker', 'bowler', 'is_super_over',\n",
       "       'wide_runs', 'bye_runs', 'legbye_runs', 'noball_runs', 'penalty_runs',\n",
       "       'batsman_runs', 'extra_runs', 'total_runs', 'player_dismissed',\n",
       "       'dismissal_kind', 'fielder', 'runs_2019'],\n",
       "      dtype='object')"
      ]
     },
     "execution_count": 161,
     "metadata": {},
     "output_type": "execute_result"
    }
   ],
   "source": [
    "df.columns"
   ]
  },
  {
   "cell_type": "code",
   "execution_count": null,
   "id": "9ef7ef9b",
   "metadata": {},
   "outputs": [],
   "source": []
  }
 ],
 "metadata": {
  "kernelspec": {
   "display_name": "Python 3 (ipykernel)",
   "language": "python",
   "name": "python3"
  },
  "language_info": {
   "codemirror_mode": {
    "name": "ipython",
    "version": 3
   },
   "file_extension": ".py",
   "mimetype": "text/x-python",
   "name": "python",
   "nbconvert_exporter": "python",
   "pygments_lexer": "ipython3",
   "version": "3.11.5"
  }
 },
 "nbformat": 4,
 "nbformat_minor": 5
}
